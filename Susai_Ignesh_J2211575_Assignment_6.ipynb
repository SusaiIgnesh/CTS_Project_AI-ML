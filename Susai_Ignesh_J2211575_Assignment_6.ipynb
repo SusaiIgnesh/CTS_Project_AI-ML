{
 "cells": [
  {
   "cell_type": "markdown",
   "metadata": {
    "id": "Ty3U6KIME1M1"
   },
   "source": [
    "##**The Task for the AI**\n",
    "\n",
    "\n",
    "Our goal is to construct and train an artificial neural network on thousands of images of handwritten digits so that it may successfully identify others when presented. The data that will be incorporated is the MNIST database which contains 60,000 images for training and 10,000 test images. We will use the Keras Python API with TensorFlow as the backend.\n",
    "\n"
   ]
  },
  {
   "cell_type": "markdown",
   "metadata": {
    "id": "4SscqDe8MNJd"
   },
   "source": [
    "##Prequisite Python Modules\n",
    "First some software needs to be loaded into the Python environment."
   ]
  },
  {
   "cell_type": "markdown",
   "metadata": {
    "id": "i3U-Pu2MNDNn"
   },
   "source": [
    "**Step 1**: Importing library\n",
    "\n",
    "1. **(from keras.datasets import mnist)** ===> The **keras.datasets** module provide a few toy datasets (already-vectorized, in Numpy format) that can be used for debugging a model.Here we are importing the **MNIST** dataset it was include in the keras API.\n",
    "\n",
    "2. **(from keras.models import Sequential)** ===> The core idea of Sequential API is simply **arranging the Keras layers in a sequential order** and so, it is called Sequential API. Most of the ANN also has layers in sequential order and the data flows from one layer to another layer in the given order until the data finally reaches the output layer.\n",
    "\n",
    "3. **layers.core**(API) ===> Layers are the basic building blocks of neural networks in Keras. \n",
    "\n",
    "4. **Type of the layers**\n",
    "      *  **Dense** --->  Dense Layer is simple layer of neurons in which each neuron receives input from all the neurons of previous layer.\n",
    "      *  **Dropout** ---> A technique where randomly selected neurons are ignored during training.it will randomly set the input units is 0  with a frequency of rate at each step during training time, which helps prevent overfitting.\n",
    "      *   **Activation** --->  Activation functions are a critical part of the design of a neural network.(increase the non-linearity in the output.)\n",
    "\n",
    "5.  **(from keras.utils import np_utils)** ===> Keras provides numpy utility library, which provides functions to perform actions on numpy arrays. \n",
    "\n",
    "\n"
   ]
  },
  {
   "cell_type": "code",
   "execution_count": 1,
   "metadata": {
    "id": "EEUNLtTXD916"
   },
   "outputs": [],
   "source": [
    "import numpy as np            # advanced math library\n",
    "import matplotlib.pyplot as plt   # MATLAB like plotting \n",
    "import random                     # for generating random numbers\n",
    "\n",
    "from keras.datasets import mnist  # MNIST dataset is included in Keras\n",
    "from keras.models import Sequential     # Model type to be used\n",
    "\n",
    "from keras.layers.core import Dense, Dropout, Activation  # Types of layers t be used in the model\n",
    "from keras.utils import np_utils"
   ]
  },
  {
   "cell_type": "markdown",
   "metadata": {
    "id": "xH6o-Jb4IANb"
   },
   "source": [
    "**Step 2:** Loading Training Data\n",
    "\n",
    "The MNIST dataset is conveniently bundled within Keras, and we can easily analyze some of its features in Python."
   ]
  },
  {
   "cell_type": "code",
   "execution_count": 2,
   "metadata": {
    "colab": {
     "base_uri": "https://localhost:8080/"
    },
    "id": "z9R6Dc9fFxsa",
    "outputId": "6daa3afe-4072-4961-fd76-356b33025a29"
   },
   "outputs": [
    {
     "name": "stdout",
     "output_type": "stream",
     "text": [
      "Downloading data from https://storage.googleapis.com/tensorflow/tf-keras-datasets/mnist.npz\n",
      "11490434/11490434 [==============================] - 0s 0us/step\n",
      "X_train shape (60000, 28, 28)\n",
      "Y_train shape (60000,)\n",
      "X_test shape (10000, 28, 28)\n",
      "Y_test shape (10000,)\n"
     ]
    }
   ],
   "source": [
    "# The MNIST data is split between 60,000 image (28 X 28 px)\n",
    "# training images and 10,000 images (28 x 28 px)\n",
    "\n",
    "(X_train, y_train), (X_test,y_test) = mnist.load_data()\n",
    "\n",
    "print(\"X_train shape\", X_train.shape)\n",
    "print(\"Y_train shape\", y_train.shape)\n",
    "print(\"X_test shape\", X_test.shape)\n",
    "print(\"Y_test shape\", y_test.shape)"
   ]
  },
  {
   "cell_type": "markdown",
   "metadata": {
    "id": "yzCbEad6JOac"
   },
   "source": [
    "**Step 3:** Using matplotlib , we can plot some sample images from the training set directly into this google colab notebook."
   ]
  },
  {
   "cell_type": "code",
   "execution_count": 3,
   "metadata": {
    "colab": {
     "base_uri": "https://localhost:8080/",
     "height": 249
    },
    "id": "ZyMRR_2MI0LG",
    "outputId": "b2eb2485-9e27-4d57-a040-9696ab7e2b93"
   },
   "outputs": [
    {
     "data": {
      "image/png": "[encoded data removed]",
      "text/plain": [
       "<Figure size 648x648 with 3 Axes>"
      ]
     },
     "metadata": {
      "needs_background": "light"
     },
     "output_type": "display_data"
    }
   ],
   "source": [
    "plt.rcParams['figure.figsize'] = (9,9) # Make the figures a bit bigger\n",
    "for i in range(3):                     #(rcParams)Each time Matplotlib loads, it defines a runtime configuration (rc) containing the default styles for every plot element you create.\n",
    "    plt.subplot(3,3,i+1)\n",
    "    num = random.randint(0, len(X_train))\n",
    "    plt.imshow(X_train[num], cmap='gray', interpolation='none')\n",
    "    plt.title(\"Class {}\".format(y_train[num]))\n",
    "    \n",
    "plt.tight_layout()"
   ]
  },
  {
   "cell_type": "markdown",
   "metadata": {
    "id": "CFG57Bt8JnCy"
   },
   "source": [
    "**Step 4:** Let's examine a single digit a little closer, and print out the array."
   ]
  },
  {
   "cell_type": "code",
   "execution_count": 4,
   "metadata": {
    "colab": {
     "base_uri": "https://localhost:8080/"
    },
    "id": "5ypN5Wm8LlCS",
    "outputId": "b53eabbf-d327-4be2-8055-1e1bfa0411ae"
   },
   "outputs": [
    {
     "name": "stdout",
     "output_type": "stream",
     "text": [
      "0  0  0  0  0  0  0  0    0    0    0    0    0    0    0    0    0    0    0    0    0    0  0  0  0  0  0  0  \n",
      "0  0  0  0  0  0  0  0    0    0    0    0    0    0    0    0    0    0    0    0    0    0  0  0  0  0  0  0  \n",
      "0  0  0  0  0  0  0  0    0    0    0    0    0    0    0    0    0    0    0    0    0    0  0  0  0  0  0  0  \n",
      "0  0  0  0  0  0  0  0    0    0    0    0    0    0    0    0    0    0    0    0    0    0  0  0  0  0  0  0  \n",
      "0  0  0  0  0  0  0  0    0    0    0    0    0    0    0    0    0    0    0    0    0    0  0  0  0  0  0  0  \n",
      "0  0  0  0  0  0  0  0    0    0    0    0    0    0    0    0    0    0    0    0    0    0  0  0  0  0  0  0  \n",
      "0  0  0  0  0  0  0  0    0    0    0    0    0    0    0    0    0    0    0    0    0    0  0  0  0  0  0  0  \n",
      "0  0  0  0  0  0  0  0    0    0    0    0    0    0    0    0   10   67  129  248  177   72  0  0  0  0  0  0  \n",
      "0  0  0  0  0  0  0  0    0    0    0    0    0   19  108  192  230  238  241  232  216  109  0  0  0  0  0  0  \n",
      "0  0  0  0  0  0  0  0    0    0    5   42  125  225  250  185  102   33   38   25    0    0  0  0  0  0  0  0  \n",
      "0  0  0  0  0  0  0  0    0   15  190  254  237  167   53    0    0    0   51   76   42    0  0  0  0  0  0  0  \n",
      "0  0  0  0  0  0  0  0    0  152  254  189   18    0    0    0    0   23  216  254  140    0  0  0  0  0  0  0  \n",
      "0  0  0  0  0  0  0  0   41  244  196   14    0    0    0    0   10  150  254  243   96    0  0  0  0  0  0  0  \n",
      "0  0  0  0  0  0  0  0  169  254  140    0    0    0    0   54  208  254  197   40    0    0  0  0  0  0  0  0  \n",
      "0  0  0  0  0  0  0  0   62  250  208  151  151  151  186  251  254  167    3    0    0    0  0  0  0  0  0  0  \n",
      "0  0  0  0  0  0  0  0    0   87  208  225  225  225  201  254  225   29    0    0    0    0  0  0  0  0  0  0  \n",
      "0  0  0  0  0  0  0  0    0    0    0    0    0    0  129  254   52    0    0    0    0    0  0  0  0  0  0  0  \n",
      "0  0  0  0  0  0  0  0    0    0    0    0    0   54  255  214   11    0    0    0    0    0  0  0  0  0  0  0  \n",
      "0  0  0  0  0  0  0  0    0    0    0    0    0  171  254   56    0    0    0    0    0    0  0  0  0  0  0  0  \n",
      "0  0  0  0  0  0  0  0    0    0    0    0   45  245  250    0    0    0    0    0    0    0  0  0  0  0  0  0  \n",
      "0  0  0  0  0  0  0  0    0    0    0    0   57  254  159    0    0    0    0    0    0    0  0  0  0  0  0  0  \n",
      "0  0  0  0  0  0  0  0    0    0    0    0  161  248   60    0    0    0    0    0    0    0  0  0  0  0  0  0  \n",
      "0  0  0  0  0  0  0  0    0    0    0   38  249  225    0    0    0    0    0    0    0    0  0  0  0  0  0  0  \n",
      "0  0  0  0  0  0  0  0    0    0    0   85  254  159    0    0    0    0    0    0    0    0  0  0  0  0  0  0  \n",
      "0  0  0  0  0  0  0  0    0    0    0  176  241   67    0    0    0    0    0    0    0    0  0  0  0  0  0  0  \n",
      "0  0  0  0  0  0  0  0    0    0   62  243  197    0    0    0    0    0    0    0    0    0  0  0  0  0  0  0  \n",
      "0  0  0  0  0  0  0  0    0    0  114  254   93    0    0    0    0    0    0    0    0    0  0  0  0  0  0  0  \n",
      "0  0  0  0  0  0  0  0    0    0    0    0    0    0    0    0    0    0    0    0    0    0  0  0  0  0  0  0  \n"
     ]
    }
   ],
   "source": [
    "# just a little function for pretty printing a matrix\n",
    "def matprint(mat, fmt=\"g\"):\n",
    "    col_maxes = [max([len((\"{:\"+fmt+\"}\").format(x)) for x in col]) for col in mat.T]\n",
    "    for x in mat:\n",
    "        for i, y in enumerate(x):\n",
    "            print((\"{:\"+str(col_maxes[i])+fmt+\"}\").format(y), end=\"  \")\n",
    "        print(\"\")\n",
    "# now print!        \n",
    "matprint(X_train[num])"
   ]
  },
  {
   "cell_type": "markdown",
   "metadata": {
    "id": "VFnut6LdLO4m"
   },
   "source": [
    "Each pixel is a 8-bit integer from 0-255. 0 is full black while 255 is full white. This what we call a single-channel pixel it's called monochrome.\n",
    "\n",
    "\n",
    "Formatting the input datra layer instead of 28 x 28 matrix, we build our network to accept \n"
   ]
  },
  {
   "cell_type": "markdown",
   "metadata": {
    "id": "ATquhOXbLSoj"
   },
   "source": [
    "# **Formatting the input data layer**\n"
   ]
  },
  {
   "cell_type": "markdown",
   "metadata": {
    "id": "xQSMwrNSHz_N"
   },
   "source": [
    "**Step 5:** \n",
    "\n",
    "1. Instead of a 28 x 28 matrix, we build our network to accept a 784-length vector.Each image needs to be then reshaped (or flattened) into a vector.\n",
    "\n",
    "2. (Reshaping) ===> Most of the neural networks are designed that can only accept images of a fixed size. So overcome this problem To reshape the input images so that they can be fed into the networks.(2d-->1d)"
   ]
  },
  {
   "cell_type": "code",
   "execution_count": 5,
   "metadata": {
    "colab": {
     "base_uri": "https://localhost:8080/"
    },
    "id": "tVRPtt3fLy5e",
    "outputId": "85fa3dbe-032d-4c53-9727-6589e8f171d4"
   },
   "outputs": [
    {
     "name": "stdout",
     "output_type": "stream",
     "text": [
      "Training matrix shape (60000, 784)\n",
      "Testing matrix shape (10000, 784)\n"
     ]
    }
   ],
   "source": [
    "X_train = X_train.reshape(60000 , 784)  # reshape 60,000 28 x 28 matrices into ..\n",
    "X_test = X_test.reshape(10000, 784)     # reshape 10,000 28 x 28 matrices into ..\n",
    "\n",
    "print(\"Training matrix shape\", X_train.shape)\n",
    "print(\"Testing matrix shape\", X_test.shape)\n"
   ]
  },
  {
   "cell_type": "code",
   "execution_count": 6,
   "metadata": {
    "colab": {
     "base_uri": "https://localhost:8080/"
    },
    "id": "GtTog0CSO0h8",
    "outputId": "35982042-5801-48d5-9f1f-4451fa0617bd"
   },
   "outputs": [
    {
     "data": {
      "text/plain": [
       "array([[0, 0, 0, ..., 0, 0, 0],\n",
       "       [0, 0, 0, ..., 0, 0, 0],\n",
       "       [0, 0, 0, ..., 0, 0, 0],\n",
       "       ...,\n",
       "       [0, 0, 0, ..., 0, 0, 0],\n",
       "       [0, 0, 0, ..., 0, 0, 0],\n",
       "       [0, 0, 0, ..., 0, 0, 0]], dtype=uint8)"
      ]
     },
     "execution_count": 6,
     "metadata": {},
     "output_type": "execute_result"
    }
   ],
   "source": [
    "X_test"
   ]
  },
  {
   "cell_type": "markdown",
   "metadata": {
    "id": "c0Zksj-iK7mk"
   },
   "source": [
    "**Step 6:** Why do i have to convert \"uint8\" into \"float32\" in CNN?\n",
    "\n",
    "*  Well the reason is simple, the whole math for neural networks is continuous, not discrete, and this is best approximated with floating point numbers. The inputs, outputs, and weights of a neural network are continuous numbers.\n",
    "\n",
    "* If you had integer outputs, they will still be converted to floating point at some point in the pipeline**(sigmoid(0,1),softmax(0,x))**, in order to have compatible types where operations can be made. This might happen explicitly or implicitly, its better to be explicit about types."
   ]
  },
  {
   "cell_type": "code",
   "execution_count": 7,
   "metadata": {
    "id": "HbM8mluBN1s0"
   },
   "outputs": [],
   "source": [
    "X_train = X_train.astype('float32')  #Change integers to 32-bit floating point\n",
    "X_test = X_test.astype('float32')"
   ]
  },
  {
   "cell_type": "markdown",
   "metadata": {
    "id": "zvAjqRTAPW_c"
   },
   "source": [
    "**Step 7 :** Normalization\n",
    "\n",
    "1. We'll also normalize the inputs to be in the range [0-1] rather than [0-255]. Normalizing inputs is generally recommended, so that any additional dimensions (for other network architectures) are of the same scale."
   ]
  },
  {
   "cell_type": "code",
   "execution_count": 8,
   "metadata": {
    "id": "SEoCMgvnK2bP"
   },
   "outputs": [],
   "source": [
    "X_train /=255 #normalize each value for each pixel\n",
    "X_test /=255"
   ]
  },
  {
   "cell_type": "markdown",
   "metadata": {
    "id": "l1gRi_xMQm8K"
   },
   "source": [
    "**Step 7:**\n",
    "\n",
    "We then modify our classes (unique digits) to be in the one-hot encoding formating, i.e\n",
    "\n",
    "0  ===> [1,0,0,0,0,0,0,0,0]\n",
    "\n",
    "1  ===> [0,1,0,0,0,0,0,0,0]\n",
    "\n",
    "2  ===> [0,0,1,0,0,0,0,0,0]\n",
    "etc\n",
    "\n",
    "If the final output of our network is very close to one of these classe."
   ]
  },
  {
   "cell_type": "code",
   "execution_count": 9,
   "metadata": {
    "id": "Pd6ITxolOjN4"
   },
   "outputs": [],
   "source": [
    "nb_classes = 10   # number of unique digits used to convert array of labeled data(from 0 to nb_classes - 1 ) to one-hot vector.\n",
    "\n",
    "Y_train = np_utils.to_categorical(y_train, nb_classes)\n",
    "Y_test = np_utils.to_categorical(y_test, nb_classes)"
   ]
  },
  {
   "cell_type": "markdown",
   "metadata": {
    "id": "eGc05YnBSYBp"
   },
   "source": [
    "# Building a 3-layer fully connected network (FCN)"
   ]
  },
  {
   "cell_type": "markdown",
   "metadata": {
    "id": "Tf6BCsV9Xisz"
   },
   "source": [
    "**Step 8:**  You can create a **Sequential** model by passing a list of layer instances to the constructor:"
   ]
  },
  {
   "cell_type": "code",
   "execution_count": 10,
   "metadata": {
    "id": "87kIGcNeQD2X"
   },
   "outputs": [],
   "source": [
    "# The sequential model is a linear stack of layers and is very common.\n",
    "model = Sequential()"
   ]
  },
  {
   "cell_type": "markdown",
   "metadata": {
    "id": "pO1FL3LpVmfy"
   },
   "source": [
    "**Step 9:** The first hidden layer.\n",
    "\n",
    "1. The first hidden layer is a set of 512 nodes (artificial neurons).\n",
    "\n",
    "2.  Each node will receive an element from each input vector and apply some weight and bias to it.\n"
   ]
  },
  {
   "cell_type": "code",
   "execution_count": 11,
   "metadata": {
    "id": "Yz-pyqphQhEC"
   },
   "outputs": [],
   "source": [
    "model.add(Dense(512, input_shape = (784,))) #(784,) is not a typo -- that represents"
   ]
  },
  {
   "cell_type": "markdown",
   "metadata": {
    "id": "7TwmuPaUZiE5"
   },
   "source": [
    "**Step 10:** Here we applying the Activation to the model.\n"
   ]
  },
  {
   "cell_type": "code",
   "execution_count": 12,
   "metadata": {
    "id": "3k5Ds3iDRMf3"
   },
   "outputs": [],
   "source": [
    "# An \"activation\" is a non-linear function applied to the output of the layer above.\n",
    "# It checks the new value of the node, and decides whether that artifical neuron has fired.\n",
    "# The Rectified Linear Unit (ReLU) converts all negative inputs to nodes in the next layer to be zero.\n",
    "# Those inputs are then not considered to be fired.\n",
    "# Positive values of a node are unchanged.\n",
    "model.add(Activation('relu'))"
   ]
  },
  {
   "cell_type": "markdown",
   "metadata": {
    "id": "y9wvZ9hzbDm0"
   },
   "source": [
    "**Step 11:**\n",
    "\n",
    "1. Dropout is a technique where randomly selected neurons are ignored during training. They are “dropped out” randomly.\n",
    "\n",
    "\n"
   ]
  },
  {
   "cell_type": "code",
   "execution_count": 13,
   "metadata": {
    "id": "0vaNY1KvR6Oy"
   },
   "outputs": [],
   "source": [
    "# Dropout zeroes a selection of random outputs\n",
    "# (i.e., disables their activation)\n",
    "# Dropout helps protect the model from memorizing\n",
    "#It is a kind of regularization so as to reduce the overfitting\n",
    "model.add(Dropout(0.2))  #normal Dropout range be 0.1 to 0.5"
   ]
  },
  {
   "cell_type": "markdown",
   "metadata": {
    "id": "Ndb9HoIVduC3"
   },
   "source": [
    "**Step 12:** Adding the second hidden layer"
   ]
  },
  {
   "cell_type": "code",
   "execution_count": 14,
   "metadata": {
    "id": "ZAEp4Z6DTvRW"
   },
   "outputs": [],
   "source": [
    "# The second hidden layer appears identical to our first layer.\n",
    "# However, instead of each of the 512-node receiving 784-inputs from the input image data,\n",
    "# they receive 512 inputs from the output of the first 512-node layer.\n",
    "model.add(Dense(512))\n",
    "model.add(Activation('relu'))\n",
    "model.add(Dropout(0.2))"
   ]
  },
  {
   "cell_type": "markdown",
   "metadata": {
    "id": "iJO7vDLDUOuU"
   },
   "source": [
    "**Step 13:** The Final Output Layer\n",
    "\n",
    "1. The final output layer of 10 neurons in fully-connected(target value-10)\n"
   ]
  },
  {
   "cell_type": "code",
   "execution_count": 15,
   "metadata": {
    "id": "x8l6rNAnT4qC"
   },
   "outputs": [],
   "source": [
    "model.add(Dense(10))"
   ]
  },
  {
   "cell_type": "markdown",
   "metadata": {
    "id": "vTWnt40vgjN2"
   },
   "source": [
    "**Step 14:** we're applying the softmax function to the output layers"
   ]
  },
  {
   "cell_type": "code",
   "execution_count": 16,
   "metadata": {
    "id": "6qkFBwTEUXP8"
   },
   "outputs": [],
   "source": [
    "# The \"softmax\" activation represents a probability distribution\n",
    "# over K different possible outcomes.\n",
    "# Its values are all non-negative and sum to 1.\n",
    "\n",
    "model.add(Activation('softmax'))"
   ]
  },
  {
   "cell_type": "markdown",
   "metadata": {
    "id": "vmzjT-jqVpUV"
   },
   "source": [
    "**What are trainable parameters and non-trainable parameters in the summary?**\n",
    "\n",
    "* By using model.summary(). We get the information about the number of parameters that are involved at each layer. \n",
    "\n",
    "For eg:\n",
    "\n",
    "1st Layer    : 784 x 512(Weights) + 512(Biases)\n",
    "\n",
    "2nd Layer    : 512 x 512(Weights) + 512(Biases)\n",
    "\n",
    "Output Layer : 512 x 10 (Weights) + 10 (Biases)\n",
    "\n",
    "Also,\n",
    "\n",
    "**Total params** is the sum of Trainable params and Non-trainable params.\n",
    "\n",
    "**Trainable params** these are the parameters which are trained using the gradient descent.\n",
    "\n",
    "**Non-trainable params** Discussed in detail in the next part.\n"
   ]
  },
  {
   "cell_type": "code",
   "execution_count": 17,
   "metadata": {
    "colab": {
     "base_uri": "https://localhost:8080/"
    },
    "id": "gy1Zwu1SU_pY",
    "outputId": "abe6d0bb-99d8-4cbe-bd76-c7fc2ecb4a46"
   },
   "outputs": [
    {
     "name": "stdout",
     "output_type": "stream",
     "text": [
      "Model: \"sequential\"\n",
      "_________________________________________________________________\n",
      " Layer (type)                Output Shape              Param #   \n",
      "=================================================================\n",
      " dense (Dense)               (None, 512)               401920    \n",
      "                                                                 \n",
      " activation (Activation)     (None, 512)               0         \n",
      "                                                                 \n",
      " dropout (Dropout)           (None, 512)               0         \n",
      "                                                                 \n",
      " dense_1 (Dense)             (None, 512)               262656    \n",
      "                                                                 \n",
      " activation_1 (Activation)   (None, 512)               0         \n",
      "                                                                 \n",
      " dropout_1 (Dropout)         (None, 512)               0         \n",
      "                                                                 \n",
      " dense_2 (Dense)             (None, 10)                5130      \n",
      "                                                                 \n",
      " activation_2 (Activation)   (None, 10)                0         \n",
      "                                                                 \n",
      "=================================================================\n",
      "Total params: 669,706\n",
      "Trainable params: 669,706\n",
      "Non-trainable params: 0\n",
      "_________________________________________________________________\n"
     ]
    }
   ],
   "source": [
    "# summarize the built model\n",
    "model.summary()"
   ]
  },
  {
   "cell_type": "markdown",
   "metadata": {
    "id": "oFRvwvtzWMb1"
   },
   "source": [
    "#Compiling the model\n",
    "\n",
    "**step 15**\n",
    "\n",
    "Keras is built on top of Theano and TensorFlow. Both packages allow you to define a computation graph in Python, which then compiles and runs efficiently on the CPU or GPU without the overhead of the Python interpreter.\n",
    "\n",
    "When compiing a model, Keras asks you to specify your loss function and your optimizer. The loss function we'll use here is called categorical cross-entropy, and is a loss function well-suited to comparing two probability distributions.\n",
    "\n",
    "Our predictions are probability distributions across the ten different digits (e.g. \"we're 80% confident this image is a 3, 10% sure it's an 8, 5% it's a 2, etc.\"), and the target is a probability distribution with 100% for the correct category, and 0 for everything else. The cross-entropy is a measure of how different your predicted distribution is from the target distribution. More detail at Wikipedia\n",
    "\n",
    "The optimizer helps determine how quickly the model learns through gradient descent. The rate at which descends a gradient is called the learning rate"
   ]
  },
  {
   "cell_type": "code",
   "execution_count": 18,
   "metadata": {
    "id": "eixdNNU2VQO-"
   },
   "outputs": [],
   "source": [
    "#let's use the adam optimizer the learning\n",
    "model.compile(loss ='categorical_crossentropy',\n",
    "              optimizer ='adam',metrics = ['accuracy'])"
   ]
  },
  {
   "cell_type": "markdown",
   "metadata": {
    "id": "_lB67VeoY6fH"
   },
   "source": [
    "#Train the model\n",
    "**Step 16**\n",
    "\n",
    "  1 . **(batch_size)** ====> The batch size is a number of samples processed before the model is updated.\n",
    "\n",
    "The batch size determines over how much data per step is used to compute the loss function, gradients, and back propagation. Large batch sizes allow the network to complete it's training faster; however, there are other factors beyond training speed to consider.\n",
    "\n",
    "Too large of a batch size smoothes the local minima of the loss function, causing the optimizer to settle in one because it thinks it found the global minimum.\n",
    "\n",
    "Too small of a batch size creates a very noisy loss function, and the optimizer may never find the global minimum.\n",
    "\n",
    "So a good batch size may take some trial and error to find!\n",
    "\n",
    "2. **(epochs)** ===> defines the number times that the learning algorithm will work through the entire training dataset.One epoch means that each sample in the training dataset has had an opportunity to update the internal model parameters.\n",
    "\n",
    "3. **(verbose)** ===> By setting verbose 0, 1 or 2 you just say how do you want to 'see' the training progress for each epoch.\n",
    "       \n",
    "     *  verbose=0 ---> will show you nothing (silent)\n",
    "     \n",
    "     *  verbose=1 ---> will show you an animated progress bar.\n",
    "\n",
    "     * verbose=2 ---> will just mention the number of epoc."
   ]
  },
  {
   "cell_type": "code",
   "execution_count": 19,
   "metadata": {
    "colab": {
     "base_uri": "https://localhost:8080/"
    },
    "id": "pnc8eyjMYdQW",
    "outputId": "ca38b083-15b6-4075-9c67-4d336ebf189b"
   },
   "outputs": [
    {
     "name": "stdout",
     "output_type": "stream",
     "text": [
      "Epoch 1/5\n",
      "1875/1875 [==============================] - 12s 6ms/step - loss: 0.2137 - accuracy: 0.9349\n",
      "Epoch 2/5\n",
      "1875/1875 [==============================] - 12s 6ms/step - loss: 0.1049 - accuracy: 0.9679\n",
      "Epoch 3/5\n",
      "1875/1875 [==============================] - 11s 6ms/step - loss: 0.0811 - accuracy: 0.9744\n",
      "Epoch 4/5\n",
      "1875/1875 [==============================] - 11s 6ms/step - loss: 0.0670 - accuracy: 0.9792\n",
      "Epoch 5/5\n",
      "1875/1875 [==============================] - 12s 6ms/step - loss: 0.0592 - accuracy: 0.9810\n"
     ]
    },
    {
     "data": {
      "text/plain": [
       "<keras.callbacks.History at 0x7f36d56d0750>"
      ]
     },
     "execution_count": 19,
     "metadata": {},
     "output_type": "execute_result"
    }
   ],
   "source": [
    "model.fit(X_train, Y_train,\n",
    "          batch_size =32,epochs = 5,verbose =1)"
   ]
  },
  {
   "cell_type": "markdown",
   "metadata": {
    "id": "bzayb3dU-UAR"
   },
   "source": [
    "**Step 17:** Evaluate Model's Accuracy on Test Data\n"
   ]
  },
  {
   "cell_type": "code",
   "execution_count": 20,
   "metadata": {
    "colab": {
     "base_uri": "https://localhost:8080/"
    },
    "id": "CCzwfnQRZU9e",
    "outputId": "4017a26e-0eec-40dd-8b89-2b7ad407155e"
   },
   "outputs": [
    {
     "name": "stdout",
     "output_type": "stream",
     "text": [
      "313/313 [==============================] - 1s 2ms/step - loss: 0.0833 - accuracy: 0.9777\n",
      "Test score: 0.08331543207168579\n",
      "Test accuracy: 0.9776999950408936\n"
     ]
    }
   ],
   "source": [
    "score = model.evaluate(X_test,Y_test)\n",
    "print('Test score:', score[0])\n",
    "print('Test accuracy:', score[1])"
   ]
  },
  {
   "cell_type": "markdown",
   "metadata": {
    "id": "BD0nA__W6lsn"
   },
   "source": [
    "# Inspecting the output.\n",
    " \n",
    " It's always a good idea to inspect the output and make sure everything looks sane. Here we'll look at some examples it gets right, and some examples it gets wrong."
   ]
  },
  {
   "cell_type": "code",
   "execution_count": 21,
   "metadata": {
    "colab": {
     "base_uri": "https://localhost:8080/"
    },
    "id": "oK7O5AOh6hiQ",
    "outputId": "3ebf04c4-6b42-4f9d-aa69-85c82595d1be"
   },
   "outputs": [
    {
     "name": "stdout",
     "output_type": "stream",
     "text": [
      "313/313 [==============================] - 1s 2ms/step\n"
     ]
    }
   ],
   "source": [
    "predicted_x = model.predict(X_test)\n",
    "predicted_classes = np.argmax(predicted_x,axis = 1)\n",
    "#Check which items we got right/wrong\n",
    "\n",
    "correct_indices = np.nonzero(predicted_classes == y_test)[0]\n",
    "\n",
    "incorrect_indices = np.nonzero(predicted_classes != y_test)[0]"
   ]
  },
  {
   "cell_type": "code",
   "execution_count": 22,
   "metadata": {
    "colab": {
     "base_uri": "https://localhost:8080/",
     "height": 1000
    },
    "id": "FfngMweu7oPY",
    "outputId": "02424345-a17e-42c5-bc0b-9cc0eba9e6a4"
   },
   "outputs": [
    {
     "data": {
      "image/png": "[encoded data removed]",
      "text/plain": [
       "<Figure size 648x648 with 9 Axes>"
      ]
     },
     "metadata": {
      "needs_background": "light"
     },
     "output_type": "display_data"
    },
    {
     "data": {
      "image/png": "[encoded data removed]",
      "text/plain": [
       "<Figure size 648x648 with 9 Axes>"
      ]
     },
     "metadata": {
      "needs_background": "light"
     },
     "output_type": "display_data"
    }
   ],
   "source": [
    "plt.figure()\n",
    "for i, correct in enumerate(correct_indices[:9]):\n",
    "    plt.subplot(3,3,i+1)\n",
    "    plt.imshow(X_test[correct].reshape(28,28), cmap='gray', interpolation='none')\n",
    "    plt.title(\"Predicted {}, Class {}\".format(predicted_classes[correct], y_test[correct]))\n",
    "    \n",
    "plt.tight_layout()\n",
    "    \n",
    "plt.figure()\n",
    "for i, incorrect in enumerate(incorrect_indices[:9]):\n",
    "    plt.subplot(3,3,i+1)\n",
    "    plt.imshow(X_test[incorrect].reshape(28,28), cmap='gray', interpolation='none')\n",
    "    plt.title(\"Predicted {}, Class {}\".format(predicted_classes[incorrect], y_test[incorrect]))\n",
    "    \n",
    "plt.tight_layout()"
   ]
  },
  {
   "cell_type": "markdown",
   "metadata": {
    "id": "fVqY5mCFUKPS"
   },
   "source": [
    "# Building a \"Deep\" Convolutional Neural Network\n"
   ]
  },
  {
   "cell_type": "markdown",
   "metadata": {
    "id": "Jg_t29qzEDl0"
   },
   "source": [
    " **step 1:** importing the library.\n",
    "   * **(ImageDataGenerator)** ---> Keras ImageDataGenerator is used to take the inputs of the original data and then transform it on a random basis, returning the output resultant containing solely the newly changed data.\n",
    "\n",
    "   * **(Conv2D)**  ---> is a 2D Convolution Layer, this layer creates a convolution kernel that is wind with layers input which helps produce a tensor of outputs.\n",
    "\n",
    "   *  **(MaxPooling2D)** ---> Max pooling is a pooling operation that selects the maximum element from the region of the feature map covered by the filter.\n",
    "\n",
    "   * **(ZeroPadding2D)** ---> . This layer can add rows and columns of zeros at the top, bottom, left and right side of an image tensor.\n",
    "\n",
    "   *  **(GlobalAveragePooling2D)** ---> Average pooling computes the average of the elements present in the region of feature map covered by the filter.\n",
    "\n",
    "   * **(Flatten)** ---> Flatten layer is used to make the multidimensional input one-dimensional."
   ]
  },
  {
   "cell_type": "code",
   "execution_count": 23,
   "metadata": {
    "id": "mICa4oTy8wW7"
   },
   "outputs": [],
   "source": [
    "#importing some additional tools\n",
    "\n",
    "from keras.preprocessing.image import ImageDataGenerator\n",
    "from keras.layers import Conv2D, MaxPooling2D, ZeroPadding2D, GlobalAveragePooling2D, Flatten\n",
    "from keras.layers.normalization.batch_normalization import BatchNormalization\n"
   ]
  },
  {
   "cell_type": "markdown",
   "metadata": {
    "id": "6QnE2ttMGY6Y"
   },
   "source": [
    "**Step 2:**  Reload the MNIST data "
   ]
  },
  {
   "cell_type": "code",
   "execution_count": 24,
   "metadata": {
    "id": "Yvuhkxr0UOqk"
   },
   "outputs": [],
   "source": [
    "(X_train, y_train), (X_test,y_test) = mnist.load_data()"
   ]
  },
  {
   "cell_type": "markdown",
   "metadata": {
    "id": "EXNWgwm-JtDJ"
   },
   "source": [
    "**Step 3:**  Except we do not flatten each image into a 784-length vector because we want to perform convolutions first\n"
   ]
  },
  {
   "cell_type": "code",
   "execution_count": 25,
   "metadata": {
    "id": "evXTXvAuWccm"
   },
   "outputs": [],
   "source": [
    "X_train = X_train.reshape(60000 , 28,28,1)  # reshape 60,000 28 x 28 matrices into ..\n",
    "X_test = X_test.reshape(10000, 28,28,1)     # reshape 10,000 28 x 28 matrices into ..\n",
    "                                            # add an additional dimension to represent the single-channel"
   ]
  },
  {
   "cell_type": "markdown",
   "metadata": {
    "id": "1cKQGVVhKSap"
   },
   "source": [
    "**Step 4:** change integers to 32-bit floating point numbers"
   ]
  },
  {
   "cell_type": "code",
   "execution_count": 26,
   "metadata": {
    "id": "fyKpNnCXWe26"
   },
   "outputs": [],
   "source": [
    "X_train = X_train.astype('float32')  #Change integers to 32-bit floating point\n",
    "X_test = X_test.astype('float32')"
   ]
  },
  {
   "cell_type": "markdown",
   "metadata": {
    "id": "GOVG_jF9Kl68"
   },
   "source": [
    "**Step 5:** Normalize each value for each pixel for the entire vector for each input.\n",
    "\n",
    "* Normailizing using min-max Method\n",
    "\n",
    "The reason why we normalize each pixel value is neural network learns its weights by continually adding gradient error vectors (multiplied by a learning rate) computed from backpropagation to various weight matrices throughout the network as training examples are passed through.\n",
    "\n",
    "If we didn't scale our input training vectors, the ranges of our distributions of feature values would likely be different for each feature, and thus the learning rate would cause corrections in each dimension that would differ (proportionally speaking) from one another. We might be over compensating a correction in one weight dimension while undercompensating in another.\n",
    "\n",
    "This is non-ideal as we might find ourselves in a oscillating (unable to center onto a better maxima in cost(weights) space) state or in a slow moving (traveling too slow to get to a better maxima) state."
   ]
  },
  {
   "cell_type": "code",
   "execution_count": 27,
   "metadata": {
    "colab": {
     "base_uri": "https://localhost:8080/"
    },
    "id": "VsGixbvyWhHJ",
    "outputId": "d10a22d2-d93d-45d3-e6e5-5b112691b361"
   },
   "outputs": [
    {
     "name": "stdout",
     "output_type": "stream",
     "text": [
      "Training matrix shape (60000, 28, 28, 1)\n",
      "Testing matrix shape (10000, 28, 28, 1)\n"
     ]
    }
   ],
   "source": [
    "X_train /=255 #normalize each value for each pixel\n",
    "X_test /=255\n",
    "\n",
    "print(\"Training matrix shape\", X_train.shape)\n",
    "print(\"Testing matrix shape\", X_test.shape)"
   ]
  },
  {
   "cell_type": "markdown",
   "metadata": {
    "id": "NoVr013cMil2"
   },
   "source": [
    "**Step 6:** one-hot format classes"
   ]
  },
  {
   "cell_type": "code",
   "execution_count": 28,
   "metadata": {
    "id": "P6xcf6kgWjjG"
   },
   "outputs": [],
   "source": [
    "nb_classes = 10 # number of unique digits\n",
    "\n",
    "Y_train = np_utils.to_categorical(y_train, nb_classes)\n",
    "Y_test = np_utils.to_categorical(y_test, nb_classes)"
   ]
  },
  {
   "cell_type": "markdown",
   "metadata": {
    "id": "oXIHc0CrLiPK"
   },
   "source": [
    "**Step 8: Model Building**\n",
    "\n",
    "1. We create a sequential object, which is used to simply arranging the Keras layers in a sequential order and so, it is called Sequential API. Most of the ANN also has layers in sequential order and the data flows from one layer to another layer in the given order until the data finally reaches the output layer."
   ]
  },
  {
   "cell_type": "code",
   "execution_count": 29,
   "metadata": {
    "id": "1ToBI2VgLef1"
   },
   "outputs": [],
   "source": [
    "model = Sequential()    # Linear stacking of layers"
   ]
  },
  {
   "cell_type": "markdown",
   "metadata": {
    "id": "_YbtykqQL2bx"
   },
   "source": [
    "2. Creating the first Convolution Layer, the parameters involved are:\n",
    "   * filters: To specify the number of feature detectors. Here, we specify it as 32\n",
    "  * kernal_size: The size of the kernal, in our case it is 3 x 3.\n",
    "  * input_shape: Here, we specify the order of the input for the first layer."
   ]
  },
  {
   "cell_type": "code",
   "execution_count": 30,
   "metadata": {
    "id": "w3i__NEOLeqT"
   },
   "outputs": [],
   "source": [
    "# Convolution Layer 1\n",
    "model.add(Conv2D(32, (3, 3), input_shape=(28,28,1))) # 32 different 3x3 kernels -- so 32 feature maps"
   ]
  },
  {
   "cell_type": "markdown",
   "metadata": {
    "id": "hL3YTdoSMMMG"
   },
   "source": [
    "3. Applying Batch normalization:\n",
    "It is a process to make neural networks faster and more stable through adding extra layers in a deep neural network. The new layer performs the standardizing and normalizing operations on the input of a layer coming from a previous layer.The normalizing process in batch normalization takes place in batches, not as a single input. The process involved is as follow:\n",
    "\n",
    " * Calculate the mean of the hidden activation.\n",
    " * Calculate the SD of the hidden activation."
   ]
  },
  {
   "cell_type": "code",
   "execution_count": 31,
   "metadata": {
    "id": "CZVoPsvFL_yU"
   },
   "outputs": [],
   "source": [
    "model.add(BatchNormalization(axis=-1))               # normalize each feature map before activation"
   ]
  },
  {
   "cell_type": "markdown",
   "metadata": {
    "id": "CT7bqJjTMq6z"
   },
   "source": [
    "4. Now an activation function which is a non-linear function is applied to the output of the layer 1. This activation function checks the output of each node and decides whether the node has fired or not. The activation function used here is 'Rectified Linear Unit (ReLU) it converts all negative inputs to the node in the next layer to be zero. These inputs are then not considered to be fired. The positive values are unchanged.\n",
    "\n",
    "Explained in deatil in the previous part Method: Without Convolution."
   ]
  },
  {
   "cell_type": "code",
   "execution_count": 32,
   "metadata": {
    "id": "OmrW9wiCL_2j"
   },
   "outputs": [],
   "source": [
    "convLayer01 = Activation('relu')  \n",
    "model.add(convLayer01)   "
   ]
  },
  {
   "cell_type": "markdown",
   "metadata": {
    "id": "amNSlZldMzzZ"
   },
   "source": [
    "5. Adding the second Covolution Layer. Here too we have 32 kernals and we would get 32 feature map after the operation. We also perform the batch normalization before the applying the ReLU activation function."
   ]
  },
  {
   "cell_type": "code",
   "execution_count": 33,
   "metadata": {
    "id": "B_ZC4vGpL_7A"
   },
   "outputs": [],
   "source": [
    "# Convolution Layer 2\n",
    "model.add(Conv2D(32, (3, 3)))                        # 32 different 3x3 kernels -- so 32 feature maps"
   ]
  },
  {
   "cell_type": "code",
   "execution_count": 34,
   "metadata": {
    "id": "_Ysx-29zM7i5"
   },
   "outputs": [],
   "source": [
    "model.add(BatchNormalization(axis=-1))               # normalize each feature map before activation"
   ]
  },
  {
   "cell_type": "markdown",
   "metadata": {
    "id": "m5tk660KNFDZ"
   },
   "source": [
    "Why do we specifically use ReLU?\n",
    "The purpose of applying the rectifier function is to increase the non-linearity in our images. The reason we want to do that is that images are naturally non-linear.\n",
    "\n",
    "When we look at any image, we''ll find it contains a lot of non-linear features (e.g. the transition between pixels, the borders, the colors, etc.).\n",
    "\n",
    "The rectifier serves to break up the linearity even further in order to make up for the linearity that we might impose an image when we put it through the convolution operation."
   ]
  },
  {
   "cell_type": "code",
   "execution_count": 35,
   "metadata": {
    "id": "dzwVWwxtM7xB"
   },
   "outputs": [],
   "source": [
    "model.add(Activation('relu'))                        # activation function used is ReLU"
   ]
  },
  {
   "cell_type": "markdown",
   "metadata": {
    "id": "qZOJc6piNMYv"
   },
   "source": [
    "6. **MaxPooling** is applied which downsamples the input along its spatial dimensions (height and width) by taking the maximum value over an input window (of size defined by pool_size) for each channel of the input. The window is shifted by strides along each dimension. Here, the matrix is of order 2 x 2."
   ]
  },
  {
   "cell_type": "code",
   "execution_count": 36,
   "metadata": {
    "id": "DnRAIObIM798"
   },
   "outputs": [],
   "source": [
    "convoLayer02 = MaxPooling2D(pool_size = (2,2))"
   ]
  },
  {
   "cell_type": "code",
   "execution_count": 37,
   "metadata": {
    "id": "RWtxnJ4mNUHM"
   },
   "outputs": [],
   "source": [
    "model.add(convoLayer02)"
   ]
  },
  {
   "cell_type": "markdown",
   "metadata": {
    "id": "XlU9d0iZNW1G"
   },
   "source": [
    "7. Adding another Convolution layer with 64 kernals, and applying the same steps as before."
   ]
  },
  {
   "cell_type": "code",
   "execution_count": 38,
   "metadata": {
    "id": "NNOMjRqwNUSv"
   },
   "outputs": [],
   "source": [
    "# Convolution Layer 3\n",
    "model.add(Conv2D(64,(3, 3)))                         # 64 different 3x3 kernels -- so 64 feature maps\n",
    "model.add(BatchNormalization(axis=-1))               # normalize each feature map before activation\n",
    "convLayer03 = Activation('relu')                     # activation\n",
    "model.add(convLayer03)"
   ]
  },
  {
   "cell_type": "markdown",
   "metadata": {
    "id": "ySl6uKStNx7U"
   },
   "source": [
    "8. Adding 4th Convolution layer with 64 kernals, and applying the same steps as before. Finally applying flattening."
   ]
  },
  {
   "cell_type": "code",
   "execution_count": 39,
   "metadata": {
    "id": "YrjYDb-zN1Wk"
   },
   "outputs": [],
   "source": [
    "# Convolution Layer 4\n",
    "model.add(Conv2D(64, (3, 3)))                        # 64 different 3x3 kernels -- so 64 feature maps\n",
    "model.add(BatchNormalization(axis=-1))               # normalize each feature map before activation\n",
    "model.add(Activation('relu'))                        # activation\n",
    "convLayer04 = MaxPooling2D(pool_size=(2,2))          # Pool the max values over a 2x2 kernel\n",
    "model.add(convLayer04)\n",
    "model.add(Flatten())"
   ]
  },
  {
   "cell_type": "markdown",
   "metadata": {
    "id": "8Ai8G6vbN5r7"
   },
   "source": [
    "9. Next we create a hidden dense layer with 512 Nodes. Next apply Normalization and then activation function ReLU."
   ]
  },
  {
   "cell_type": "code",
   "execution_count": 40,
   "metadata": {
    "id": "4d_g-1VgOF2j"
   },
   "outputs": [],
   "source": [
    "# Fully Connected Layer 5\n",
    "model.add(Dense(512))                                # 512 FCN nodes\n",
    "model.add(BatchNormalization())                      # normalization\n",
    "model.add(Activation('relu'))"
   ]
  },
  {
   "cell_type": "markdown",
   "metadata": {
    "id": "st0eyngTOKiD"
   },
   "source": [
    "10.  From the previous layer 20% of neurons are randomly selected and considered not active. This is done to avoid over-fitting.And then we finally create the last output layer, which has 10 nodes. And apply the \"softmax\" function since we have a multiclass problem (10 categories)."
   ]
  },
  {
   "cell_type": "code",
   "execution_count": 41,
   "metadata": {
    "id": "HcSTlTdgOSus"
   },
   "outputs": [],
   "source": [
    "# Fully Connected Layer 6                       \n",
    "model.add(Dropout(0.2))                              # 20% dropout of randomly selected nodes\n",
    "model.add(Dense(10))                                 # final 10 FCN nodes\n",
    "model.add(Activation('softmax'))                     # softmax activation"
   ]
  },
  {
   "cell_type": "markdown",
   "metadata": {
    "id": "hSyviXN_Od8I"
   },
   "source": [
    "10. By using model.summary(). We get the information about the number of parameters that are involved at each layer. The formula for computing the number of parameters after performing the **Convolution** is \n",
    "= ((Dimention of Height * dimension of Width * no. of filters in the previous layer) + 1 (Bias)) * (No of filters in the current layer)\n",
    "\n",
    "For Eg: \n",
    "\n",
    "* For Con2d_4 - Number of parameters are: ((3 * 3 * 1) + 1)*32) = 320\n",
    "* For Con2d_5 - Number of parameters are: ((3 * 3 * 32) + 1)*32) = 9248\n",
    "\n",
    "The parameter for the **batch normalization** is: Number of Nodes*4 (Which are the four parameters of BN which are: \n",
    "\n",
    "**gamma weights, beta weights, moving_mean(non-trainable) and moving_variance(non-trainable)**\n",
    "\n",
    "For Eg: \n",
    "\n",
    "* 32*4 = 512\n",
    "\n",
    "Also note: \n",
    "\n",
    "* **Total Params** are the total number of parameters in the model.\n",
    "* **Trainable parameter**s are those parameters which are found using the gradient, when we use batch normalization the parameters Gamma and beta are trained using the gradient but the mean and the variance are not, these are known as **non-trainable parameters**. The number of these parameters could be computed as sum of all the layers of (Total Nodes *2)"
   ]
  },
  {
   "cell_type": "code",
   "execution_count": 42,
   "metadata": {
    "colab": {
     "base_uri": "https://localhost:8080/"
    },
    "id": "glh8UiqXXPYH",
    "outputId": "3bc47efc-784e-48a4-b6bd-a288e31e9154"
   },
   "outputs": [
    {
     "name": "stdout",
     "output_type": "stream",
     "text": [
      "Model: \"sequential_1\"\n",
      "_________________________________________________________________\n",
      " Layer (type)                Output Shape              Param #   \n",
      "=================================================================\n",
      " conv2d (Conv2D)             (None, 26, 26, 32)        320       \n",
      "                                                                 \n",
      " batch_normalization (BatchN  (None, 26, 26, 32)       128       \n",
      " ormalization)                                                   \n",
      "                                                                 \n",
      " activation_3 (Activation)   (None, 26, 26, 32)        0         \n",
      "                                                                 \n",
      " conv2d_1 (Conv2D)           (None, 24, 24, 32)        9248      \n",
      "                                                                 \n",
      " batch_normalization_1 (Batc  (None, 24, 24, 32)       128       \n",
      " hNormalization)                                                 \n",
      "                                                                 \n",
      " activation_4 (Activation)   (None, 24, 24, 32)        0         \n",
      "                                                                 \n",
      " max_pooling2d (MaxPooling2D  (None, 12, 12, 32)       0         \n",
      " )                                                               \n",
      "                                                                 \n",
      " conv2d_2 (Conv2D)           (None, 10, 10, 64)        18496     \n",
      "                                                                 \n",
      " batch_normalization_2 (Batc  (None, 10, 10, 64)       256       \n",
      " hNormalization)                                                 \n",
      "                                                                 \n",
      " activation_5 (Activation)   (None, 10, 10, 64)        0         \n",
      "                                                                 \n",
      " conv2d_3 (Conv2D)           (None, 8, 8, 64)          36928     \n",
      "                                                                 \n",
      " batch_normalization_3 (Batc  (None, 8, 8, 64)         256       \n",
      " hNormalization)                                                 \n",
      "                                                                 \n",
      " activation_6 (Activation)   (None, 8, 8, 64)          0         \n",
      "                                                                 \n",
      " max_pooling2d_1 (MaxPooling  (None, 4, 4, 64)         0         \n",
      " 2D)                                                             \n",
      "                                                                 \n",
      " flatten (Flatten)           (None, 1024)              0         \n",
      "                                                                 \n",
      " dense_3 (Dense)             (None, 512)               524800    \n",
      "                                                                 \n",
      " batch_normalization_4 (Batc  (None, 512)              2048      \n",
      " hNormalization)                                                 \n",
      "                                                                 \n",
      " activation_7 (Activation)   (None, 512)               0         \n",
      "                                                                 \n",
      " dropout_2 (Dropout)         (None, 512)               0         \n",
      "                                                                 \n",
      " dense_4 (Dense)             (None, 10)                5130      \n",
      "                                                                 \n",
      " activation_8 (Activation)   (None, 10)                0         \n",
      "                                                                 \n",
      "=================================================================\n",
      "Total params: 597,738\n",
      "Trainable params: 596,330\n",
      "Non-trainable params: 1,408\n",
      "_________________________________________________________________\n"
     ]
    }
   ],
   "source": [
    "model.summary()"
   ]
  },
  {
   "cell_type": "markdown",
   "metadata": {
    "id": "8ItSbUMrO-Gj"
   },
   "source": [
    " **Step 9: Compiling the model**"
   ]
  },
  {
   "cell_type": "code",
   "execution_count": 43,
   "metadata": {
    "id": "vTMEkd1aXPbC"
   },
   "outputs": [],
   "source": [
    "# we'll use the adam optimizer\n",
    "model.compile(loss='categorical_crossentropy', optimizer='adam', metrics=['accuracy'])"
   ]
  },
  {
   "cell_type": "markdown",
   "metadata": {
    "id": "lgsbgs3TPEOn"
   },
   "source": [
    " **Step 10: Fitting the model**\n",
    "\n",
    " Image augmentation is a technique of applying different transformations to original images which results in multiple transformed copies of the same image. Each copy, however, is different from the other in certain aspects depending on the augmentation techniques you apply like shifting, rotating, flipping, etc.\n",
    "\n",
    "Applying these small amounts of variations on the original image does not change its target class but only provides a new perspective of capturing the object in real life. And so, we use it is quite often for building deep learning models.The various parameters used is:\n",
    "\n",
    "1. **rotation_range** -  allows you to randomly rotate images through any degree between 0 and 360 by providing an integer value in the rotation_range argument.\n",
    "2. **Random shifts** - It may happen that the object may not always be in the center of the image. To overcome this problem we can shift the pixels of the image either horizontally or vertically; this is done by adding a certain constant value to all the pixels. It has the argument **height_shift_rang**e for a vertical shift of image and **width_shift_range** for a horizontal shift of image.\n",
    "3. **zoom_range** - The zoom augmentation either randomly zooms in on the image or zooms out of the image. etc"
   ]
  },
  {
   "cell_type": "code",
   "execution_count": 44,
   "metadata": {
    "id": "5uXOwxTjXhmL"
   },
   "outputs": [],
   "source": [
    "# data augmentation prevents overfitting by slightly changing the data randomly\n",
    "# Keras has a great built-in feature to do automatic augmentation\n",
    "\n",
    "gen = ImageDataGenerator(rotation_range=8, width_shift_range=0.08, shear_range=0.3,\n",
    "                         height_shift_range=0.08, zoom_range=0.08)\n",
    "\n",
    "test_gen = ImageDataGenerator()"
   ]
  },
  {
   "cell_type": "markdown",
   "metadata": {
    "id": "YDE6h19iPdrb"
   },
   "source": [
    "Performing the transformation in both the train and test data."
   ]
  },
  {
   "cell_type": "code",
   "execution_count": 45,
   "metadata": {
    "id": "nYTj_UcVXho0"
   },
   "outputs": [],
   "source": [
    "# We can then feed our augmented data in batches\n",
    "# Besides loss function considerations as before, this method actually results in significant memory savings\n",
    "# because we are actually LOADING the data into the network in batches before processing each batch\n",
    "\n",
    "# Before the data was all loaded into memory, but then processed in batches.\n",
    "\n",
    "train_generator = gen.flow(X_train, Y_train, batch_size=128)\n",
    "test_generator = test_gen.flow(X_test, Y_test, batch_size=128)"
   ]
  },
  {
   "cell_type": "markdown",
   "metadata": {
    "id": "mraA6-7JPlkj"
   },
   "source": [
    "Fiting on the train data"
   ]
  },
  {
   "cell_type": "code",
   "execution_count": 46,
   "metadata": {
    "colab": {
     "base_uri": "https://localhost:8080/"
    },
    "id": "YvA7_P-8Kq7A",
    "outputId": "660d26b9-45e8-40c1-b0b9-c6a1547bafea"
   },
   "outputs": [
    {
     "metadata": {
      "tags": null
     },
     "name": "stdout",
     "output_type": "stream",
     "text": [
      "Epoch 1/5\n"
     ]
    },
    {
     "metadata": {
      "tags": null
     },
     "name": "stderr",
     "output_type": "stream",
     "text": [
      "/usr/local/lib/python3.7/dist-packages/ipykernel_launcher.py:8: UserWarning: `Model.fit_generator` is deprecated and will be removed in a future version. Please use `Model.fit`, which supports generators.\n",
      "  \n"
     ]
    },
    {
     "name": "stdout",
     "output_type": "stream",
     "text": [
      "468/468 [==============================] - 126s 268ms/step - loss: 0.1276 - accuracy: 0.9598 - val_loss: 0.2387 - val_accuracy: 0.9269\n",
      "Epoch 2/5\n",
      "468/468 [==============================] - 127s 272ms/step - loss: 0.0500 - accuracy: 0.9847 - val_loss: 0.0409 - val_accuracy: 0.9871\n",
      "Epoch 3/5\n",
      "468/468 [==============================] - 126s 270ms/step - loss: 0.0412 - accuracy: 0.9874 - val_loss: 0.0771 - val_accuracy: 0.9770\n",
      "Epoch 4/5\n",
      "468/468 [==============================] - 126s 269ms/step - loss: 0.0340 - accuracy: 0.9894 - val_loss: 0.0285 - val_accuracy: 0.9903\n",
      "Epoch 5/5\n",
      "468/468 [==============================] - 126s 269ms/step - loss: 0.0305 - accuracy: 0.9903 - val_loss: 0.0282 - val_accuracy: 0.9914\n"
     ]
    },
    {
     "data": {
      "text/plain": [
       "<keras.callbacks.History at 0x7f36d5020110>"
      ]
     },
     "execution_count": 46,
     "metadata": {},
     "output_type": "execute_result"
    }
   ],
   "source": [
    "# We can now train our model which is fed data by our batch loader\n",
    "# Steps per epoch should always be total size of the set divided by the batch size\n",
    "# SIGNIFICANT MEMORY SAVINGS (important for larger, deeper networks)\n",
    "\n",
    "model.fit_generator(train_generator, steps_per_epoch=60000//128, \n",
    "                    epochs=5, verbose=1, \n",
    "                    validation_data=test_generator,\n",
    "                    validation_steps= 10000//128)"
   ]
  },
  {
   "cell_type": "markdown",
   "metadata": {
    "id": "emg810nBa1pZ"
   },
   "source": [
    "**Step 11: Evaluating the model**\n",
    "Finally evaluating the model performance."
   ]
  },
  {
   "cell_type": "code",
   "execution_count": 47,
   "metadata": {
    "colab": {
     "base_uri": "https://localhost:8080/"
    },
    "id": "85E314osYteg",
    "outputId": "2a4ec17c-34af-4120-9029-a21f822b2ab9"
   },
   "outputs": [
    {
     "name": "stdout",
     "output_type": "stream",
     "text": [
      "313/313 [==============================] - 8s 26ms/step - loss: 0.0282 - accuracy: 0.9914\n",
      "Test score: 0.028201211243867874\n",
      "Test accuracy: 0.9914000034332275\n"
     ]
    }
   ],
   "source": [
    "score = model.evaluate(X_test, Y_test)\n",
    "print('Test score:', score[0])\n",
    "print('Test accuracy:', score[1])"
   ]
  },
  {
   "cell_type": "code",
   "execution_count": null,
   "metadata": {
    "id": "XHLFpgO7XXXg"
   },
   "outputs": [],
   "source": []
  }
 ],
 "metadata": {
  "colab": {
   "collapsed_sections": [],
   "provenance": []
  },
  "kernelspec": {
   "display_name": "Python 3",
   "language": "python",
   "name": "python3"
  },
  "language_info": {
   "codemirror_mode": {
    "name": "ipython",
    "version": 3
   },
   "file_extension": ".py",
   "mimetype": "text/x-python",
   "name": "python",
   "nbconvert_exporter": "python",
   "pygments_lexer": "ipython3",
   "version": "3.8.3"
  }
 },
 "nbformat": 4,
 "nbformat_minor": 1
}
